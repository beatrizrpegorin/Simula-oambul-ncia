{
 "cells": [
  {
   "cell_type": "markdown",
   "metadata": {},
   "source": [
    "# ESTRUTURAS DE DADOS"
   ]
  },
  {
   "cell_type": "markdown",
   "metadata": {},
   "source": [
    "## CDIA20 | Semana 11"
   ]
  },
  {
   "cell_type": "markdown",
   "metadata": {},
   "source": [
    "### Recursão - parte 2"
   ]
  },
  {
   "cell_type": "markdown",
   "metadata": {},
   "source": [
    "1) Dada uma lista de números inteiros, crie uma função que inverta a posição de seus elementos. "
   ]
  },
  {
   "cell_type": "code",
   "execution_count": 5,
   "metadata": {},
   "outputs": [
    {
     "data": {
      "text/plain": [
       "[3, 1, 2]"
      ]
     },
     "execution_count": 5,
     "metadata": {},
     "output_type": "execute_result"
    }
   ],
   "source": [
    "def inverter(lst):\n",
    "    aux = None\n",
    "    j = len(lst) - 1\n",
    "    for i in range(len(lst)):\n",
    "        aux = lst[i]\n",
    "        lst[i] = lst[j]\n",
    "        lst[j] = aux\n",
    "    return lst\n",
    "\n",
    "l = [1,2,3]\n",
    "inverter(l)"
   ]
  },
  {
   "cell_type": "markdown",
   "metadata": {},
   "source": [
    "2) Dada uma lista de números inteiros, crie uma função *recursiva* que inverta a posição de seus elementos."
   ]
  },
  {
   "cell_type": "code",
   "execution_count": 51,
   "metadata": {},
   "outputs": [
    {
     "data": {
      "text/plain": [
       "[6, 5, 4, 3, 2, 1]"
      ]
     },
     "execution_count": 51,
     "metadata": {},
     "output_type": "execute_result"
    }
   ],
   "source": [
    "def inverterR(lst, e, d):\n",
    "    if (e > d):\n",
    "        return\n",
    "    aux = lst[e]\n",
    "    lst[e] = lst[d]\n",
    "    lst[d] = aux\n",
    "    inverterR(lst, e + 1, d - 1)\n",
    "        \n",
    "lst = [1,2,3,4,5,6]\n",
    "j = len(lst) - 1\n",
    "inverterR(lst, 0, j)\n",
    "lst"
   ]
  },
  {
   "cell_type": "markdown",
   "metadata": {},
   "source": [
    "3) Crie uma função recursiva que determine quantas vezes um dígito $k$ ocorre em um número natural $n$. Por exemplo, o dígito $2$ ocorre três vezes em $123453232$."
   ]
  },
  {
   "cell_type": "code",
   "execution_count": 20,
   "metadata": {},
   "outputs": [
    {
     "data": {
      "text/plain": [
       "0"
      ]
     },
     "execution_count": 20,
     "metadata": {},
     "output_type": "execute_result"
    }
   ],
   "source": [
    "def conta_dig(n, k):\n",
    "    if (n == 0):\n",
    "        return 0\n",
    "    return conta_dig(n // 10, k) + (n % 10 == k)\n",
    "conta_dig(55, 2)"
   ]
  },
  {
   "cell_type": "markdown",
   "metadata": {},
   "source": [
    "4) "
   ]
  },
  {
   "cell_type": "code",
   "execution_count": 24,
   "metadata": {},
   "outputs": [
    {
     "data": {
      "text/plain": [
       "'101'"
      ]
     },
     "execution_count": 24,
     "metadata": {},
     "output_type": "execute_result"
    }
   ],
   "source": [
    "def dec2bin(n):\n",
    "    if (n == 0):\n",
    "        return \"\"\n",
    "    return dec2bin(n // 2) + str(n % 2)\n",
    "dec2bin(5)"
   ]
  },
  {
   "cell_type": "markdown",
   "metadata": {},
   "source": [
    "5) "
   ]
  },
  {
   "cell_type": "code",
   "execution_count": 41,
   "metadata": {},
   "outputs": [
    {
     "name": "stdout",
     "output_type": "stream",
     "text": [
      "0 1 1 2 3 5 8 13 21 "
     ]
    }
   ],
   "source": [
    "def fibonnaci(n):\n",
    "    if (n < 2):\n",
    "        return 0\n",
    "    if (n == 2):\n",
    "        return 1\n",
    "    return fibonnaci(n-1) + fibonnaci(n-2) \n",
    "    \n",
    "for i in range(1,10):\n",
    "    print(fibonnaci(i), end=\" \")"
   ]
  },
  {
   "cell_type": "markdown",
   "metadata": {},
   "source": [
    "6) "
   ]
  },
  {
   "cell_type": "code",
   "execution_count": 52,
   "metadata": {},
   "outputs": [
    {
     "data": {
      "text/plain": [
       "220"
      ]
     },
     "execution_count": 52,
     "metadata": {},
     "output_type": "execute_result"
    }
   ],
   "source": [
    "def maiorR(lst, i):\n",
    "    if (i == 0):\n",
    "        return lst[i]\n",
    "    p = maiorR(lst, i-1)\n",
    "    q = lst[i]\n",
    "    return p if p > q else q\n",
    "    #if (lst[i] > ant):\n",
    "    #    return lst[i]\n",
    "    #return ant\n",
    "\n",
    "lst = [54, 100, 93, 220]\n",
    "j = len(lst) - 1\n",
    "maiorR(lst, j)"
   ]
  },
  {
   "cell_type": "code",
   "execution_count": 50,
   "metadata": {},
   "outputs": [
    {
     "name": "stdout",
     "output_type": "stream",
     "text": [
      "-\n",
      "--\n",
      "-\n",
      "---\n",
      "-\n",
      "--\n",
      "-\n",
      "----\n",
      "-\n",
      "--\n",
      "-\n",
      "---\n",
      "-\n",
      "--\n",
      "-\n"
     ]
    }
   ],
   "source": [
    "def regua(n):\n",
    "    if (n == 1):\n",
    "        print(\"-\")\n",
    "        return\n",
    "    regua(n - 1)\n",
    "    print(n * \"-\")\n",
    "    regua(n - 1)\n",
    "\n",
    "regua(4)"
   ]
  }
 ],
 "metadata": {
  "kernelspec": {
   "display_name": "Python 3",
   "language": "python",
   "name": "python3"
  },
  "language_info": {
   "codemirror_mode": {
    "name": "ipython",
    "version": 3
   },
   "file_extension": ".py",
   "mimetype": "text/x-python",
   "name": "python",
   "nbconvert_exporter": "python",
   "pygments_lexer": "ipython3",
   "version": "3.8.3"
  }
 },
 "nbformat": 4,
 "nbformat_minor": 4
}
